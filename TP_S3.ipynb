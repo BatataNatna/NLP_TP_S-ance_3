{
 "cells": [
  {
   "cell_type": "markdown",
   "metadata": {},
   "source": [
    "# TP Séance 3 NLP:\n"
   ]
  },
  {
   "cell_type": "markdown",
   "metadata": {},
   "source": [
    "## Bibliothèques "
   ]
  },
  {
   "cell_type": "code",
   "execution_count": 3,
   "metadata": {},
   "outputs": [
    {
     "name": "stdout",
     "output_type": "stream",
     "text": [
      "Dataset URL: https://www.kaggle.com/datasets/Cornell-University/movie-dialog-corpus"
     ]
    },
    {
     "name": "stderr",
     "output_type": "stream",
     "text": [
      "\n",
      "  0%|          | 0.00/8.91M [00:00<?, ?B/s]\n",
      " 11%|█         | 1.00M/8.91M [00:00<00:04, 1.98MB/s]\n",
      " 34%|███▎      | 3.00M/8.91M [00:00<00:01, 5.41MB/s]\n",
      " 56%|█████▌    | 5.00M/8.91M [00:00<00:00, 8.17MB/s]\n",
      " 79%|███████▊  | 7.00M/8.91M [00:00<00:00, 9.61MB/s]\n",
      "100%|██████████| 8.91M/8.91M [00:01<00:00, 10.4MB/s]\n",
      "100%|██████████| 8.91M/8.91M [00:01<00:00, 8.13MB/s]\n"
     ]
    },
    {
     "name": "stdout",
     "output_type": "stream",
     "text": [
      "\n",
      "License(s): other\n",
      "Downloading movie-dialog-corpus.zip to c:\\Users\\rymkm\\Desktop\\Cours 2023 - 2024\\IA School M2\\S2\\S2.2\\NLP\\Séance 3 TP\\NLP_TP_S-ance_3\n",
      "\n"
     ]
    }
   ],
   "source": [
    "# Installation \n",
    "\n",
    "#!pip install kaggle\n",
    "#!kaggle datasets download -d Cornell-University/movie-dialog-corpus\n"
   ]
  },
  {
   "cell_type": "code",
   "execution_count": 4,
   "metadata": {},
   "outputs": [],
   "source": [
    "#Import des bibliothèques \n",
    "\n",
    "#traitement du csv\n",
    "import os\n",
    "import csv\n",
    "\n",
    "# Traitement du NLP\n",
    "import spacy\n",
    "\n",
    "# Création du modèle word to vect \n",
    "import gensim\n",
    "\n",
    "#bibliothèques usuelles\n",
    "import pandas as pd\n",
    "import matplotlib\n",
    "import matplotlib.pyplot as plt\n",
    "\n",
    "# PCA \n",
    "from sklearn.manifold import TSNE\n",
    "\n",
    "#Ajout d'une barre d'avancement\n",
    "from tqdm.notebook import tqdm"
   ]
  },
  {
   "cell_type": "markdown",
   "metadata": {},
   "source": [
    "## Import traitement et décompression du fichier zip"
   ]
  },
  {
   "cell_type": "code",
   "execution_count": 24,
   "metadata": {},
   "outputs": [],
   "source": [
    "#À compiler dans le bash \n",
    "\n",
    "#mkdir data/movie-dialog-corpus/\n",
    "#unzip -o movie-dialog-corpus.zip -d data/movie-dialog-corpus/"
   ]
  },
  {
   "cell_type": "markdown",
   "metadata": {},
   "source": []
  },
  {
   "cell_type": "code",
   "execution_count": null,
   "metadata": {},
   "outputs": [],
   "source": []
  }
 ],
 "metadata": {
  "kernelspec": {
   "display_name": "base",
   "language": "python",
   "name": "python3"
  },
  "language_info": {
   "codemirror_mode": {
    "name": "ipython",
    "version": 3
   },
   "file_extension": ".py",
   "mimetype": "text/x-python",
   "name": "python",
   "nbconvert_exporter": "python",
   "pygments_lexer": "ipython3",
   "version": "3.11.4"
  }
 },
 "nbformat": 4,
 "nbformat_minor": 2
}
